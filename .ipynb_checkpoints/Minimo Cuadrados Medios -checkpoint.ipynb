{
 "cells": [
  {
   "cell_type": "code",
   "execution_count": 91,
   "metadata": {},
   "outputs": [
    {
     "name": "stdout",
     "output_type": "stream",
     "text": [
      "Elige una semilla inicial: 549\n",
      "Cuantas iteraciones quieres: 7\n",
      "[0.14, 0.196, 0.8416, 0.829, 0.7241, 0.432, 0.6624, 0.8773]\n"
     ]
    }
   ],
   "source": [
    "\n",
    "\n",
    "x0 = int(input(\"Elige una semilla inicial: \"))\n",
    "niter = int(input(\"Cuantas iteraciones quieres: \"))\n",
    "\n",
    "sucesion = []\n",
    "\n",
    "for _ in range(niter+1):\n",
    "    x0_2 = x0 ** 2\n",
    "    x0_2 = str(x0_2)\n",
    "    n = len(x0_2)\n",
    "    m = n/4\n",
    "    m = round(m)\n",
    "    string = \"\"\n",
    "\n",
    "    if n in list(range(0,10,2)):\n",
    "        for i in range(n):\n",
    "            if (i < m) or (n - (m+1) < i):\n",
    "                continue\n",
    "            else:\n",
    "                string = string + x0_2[i]\n",
    "                \n",
    "    else:\n",
    "        j = 0\n",
    "        for i in range(n):\n",
    "            if n <= 4:\n",
    "                string = string + x0_2[i]\n",
    "            \n",
    "            \n",
    "            else:\n",
    "                if len(string) <= 3:\n",
    "                    j = i+1\n",
    "                    string = string + x0_2[j]\n",
    "\n",
    "    x0 = int(string)            \n",
    "    u1 = x0 / (10**len(string))\n",
    "    sucesion.append(u1)\n",
    "\n",
    "print(sucesion)"
   ]
  },
  {
   "cell_type": "code",
   "execution_count": null,
   "metadata": {},
   "outputs": [],
   "source": []
  },
  {
   "cell_type": "code",
   "execution_count": null,
   "metadata": {},
   "outputs": [],
   "source": []
  }
 ],
 "metadata": {
  "kernelspec": {
   "display_name": "Python 3",
   "language": "python",
   "name": "python3"
  },
  "language_info": {
   "codemirror_mode": {
    "name": "ipython",
    "version": 3
   },
   "file_extension": ".py",
   "mimetype": "text/x-python",
   "name": "python",
   "nbconvert_exporter": "python",
   "pygments_lexer": "ipython3",
   "version": "3.8.3"
  }
 },
 "nbformat": 4,
 "nbformat_minor": 4
}
