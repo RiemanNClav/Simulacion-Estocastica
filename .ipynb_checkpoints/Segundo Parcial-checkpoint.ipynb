{
 "cells": [
  {
   "cell_type": "code",
   "execution_count": 2,
   "metadata": {},
   "outputs": [],
   "source": [
    "\n",
    "\n",
    "import pandas as pn\n",
    "import numpy as np\n",
    "from math import exp, log, sqrt\n",
    "import random\n",
    "from scipy import stats\n",
    "from scipy.stats import norm,expon\n"
   ]
  },
  {
   "cell_type": "code",
   "execution_count": 3,
   "metadata": {},
   "outputs": [],
   "source": [
    "def Cuantil_Distribucion_Continua(distribucion,p):\n",
    "    import numpy as np \n",
    "    x_1 = np.linspace(distribucion.ppf(0.01),\n",
    "                  distribucion.ppf(0.99), 100)\n",
    "    fda_normal = distribucion.cdf(x_1) # Función de Distribución Acumulada\n",
    "    \n",
    "    for i in range(len(fda_normal)):\n",
    "        if fda_normal[i] == p or fda_normal[i]>p:\n",
    "            x_p = x_1[i]\n",
    "            break\n",
    "        else:\n",
    "            continue\n",
    "        \n",
    "    return x_p"
   ]
  },
  {
   "cell_type": "code",
   "execution_count": 19,
   "metadata": {},
   "outputs": [],
   "source": [
    "z = Cuantil_Distribucion_Continua(stats.norm(0,1),0.95)/2"
   ]
  },
  {
   "cell_type": "code",
   "execution_count": 23,
   "metadata": {},
   "outputs": [
    {
     "name": "stdout",
     "output_type": "stream",
     "text": [
      "E[N] ~ 2.997422 \n",
      "Var[N] ~ 3.0030773539160003 \n",
      "El intervalo de confianza al 95% para la media poblacional es: [2.9829659022531683, 3.0118780977468314]\n"
     ]
    }
   ],
   "source": [
    "# N = Max{   n: prod(ui)>=e^(-3)    } \n",
    "N = []\n",
    "for _ in range(1000000):\n",
    "    n = 0\n",
    "    U_i = random.uniform(0,1)\n",
    "    while U_i  >=  exp(-3):\n",
    "        n = n + 1\n",
    "        U_i =  U_i * random.uniform(0,1)\n",
    "    N.append(n)\n",
    "\n",
    "print(\"E[N] ~ {} \".format(np.mean(N)))\n",
    "print(\"Var[N] ~ {} \".format(np.var(N)))\n",
    "\n",
    "#Intervalo de confianza\n",
    "sup=np.mean(N)+((z*sqrt(np.var(N)))/sqrt(10000))\n",
    "inf=np.mean(N)-((z*sqrt(np.var(N)))/sqrt(10000))\n",
    "print(\"El intervalo de confianza al 95% para la media poblacional es: {}\".format([inf,sup]))"
   ]
  },
  {
   "cell_type": "code",
   "execution_count": 21,
   "metadata": {},
   "outputs": [
    {
     "data": {
      "text/plain": [
       "[6,\n",
       " 4,\n",
       " 5,\n",
       " 3,\n",
       " 2,\n",
       " 3,\n",
       " 4,\n",
       " 5,\n",
       " 0,\n",
       " 4,\n",
       " 6,\n",
       " 5,\n",
       " 2,\n",
       " 6,\n",
       " 1,\n",
       " 3,\n",
       " 4,\n",
       " 0,\n",
       " 1,\n",
       " 2,\n",
       " 3,\n",
       " 3,\n",
       " 5,\n",
       " 4,\n",
       " 2,\n",
       " 2,\n",
       " 1,\n",
       " 2,\n",
       " 2,\n",
       " 3,\n",
       " 2,\n",
       " 4,\n",
       " 0,\n",
       " 7,\n",
       " 2,\n",
       " 3,\n",
       " 5,\n",
       " 6,\n",
       " 3,\n",
       " 1,\n",
       " 3,\n",
       " 3,\n",
       " 4,\n",
       " 4,\n",
       " 4,\n",
       " 3,\n",
       " 2,\n",
       " 3,\n",
       " 5,\n",
       " 4,\n",
       " 2,\n",
       " 1,\n",
       " 1,\n",
       " 5,\n",
       " 0,\n",
       " 1,\n",
       " 2,\n",
       " 2,\n",
       " 5,\n",
       " 4,\n",
       " 5,\n",
       " 6,\n",
       " 2,\n",
       " 2,\n",
       " 2,\n",
       " 5,\n",
       " 5,\n",
       " 3,\n",
       " 1,\n",
       " 9,\n",
       " 1,\n",
       " 3,\n",
       " 2,\n",
       " 3,\n",
       " 2,\n",
       " 2,\n",
       " 4,\n",
       " 5,\n",
       " 2,\n",
       " 3,\n",
       " 4,\n",
       " 5,\n",
       " 4,\n",
       " 1,\n",
       " 2,\n",
       " 3,\n",
       " 0,\n",
       " 3,\n",
       " 2,\n",
       " 4,\n",
       " 3,\n",
       " 0,\n",
       " 3,\n",
       " 1,\n",
       " 1,\n",
       " 3,\n",
       " 4,\n",
       " 0,\n",
       " 2,\n",
       " 5]"
      ]
     },
     "execution_count": 21,
     "metadata": {},
     "output_type": "execute_result"
    }
   ],
   "source": [
    "N"
   ]
  },
  {
   "cell_type": "code",
   "execution_count": 17,
   "metadata": {},
   "outputs": [
    {
     "data": {
      "text/plain": [
       "0.09548662619952841"
      ]
     },
     "execution_count": 17,
     "metadata": {},
     "output_type": "execute_result"
    }
   ],
   "source": [
    "random.uniform(0,1)"
   ]
  },
  {
   "cell_type": "code",
   "execution_count": 7,
   "metadata": {},
   "outputs": [
    {
     "data": {
      "text/plain": [
       "0.049787068367863944"
      ]
     },
     "execution_count": 7,
     "metadata": {},
     "output_type": "execute_result"
    }
   ],
   "source": [
    "exp(-3)"
   ]
  },
  {
   "cell_type": "code",
   "execution_count": 24,
   "metadata": {},
   "outputs": [],
   "source": [
    "# 2. Sean X_1,..X_5 v aleatorias con distribución exponencial con media 1.\n",
    "\n",
    "def sum_sumas(k):\n",
    "    vector = []\n",
    "    for _ in range(k):\n",
    "        sum = 0\n",
    "        for i in range(1,6):\n",
    "            xi = np.random.exponential(1)\n",
    "            sum += i*xi\n",
    "            \n",
    "        vector.append(sum)   \n",
    "    return vector"
   ]
  },
  {
   "cell_type": "code",
   "execution_count": 25,
   "metadata": {},
   "outputs": [
    {
     "data": {
      "text/plain": [
       "[14.123309271595065,\n",
       " 14.310273958926324,\n",
       " 19.358615114735134,\n",
       " 13.198923131653034]"
      ]
     },
     "execution_count": 25,
     "metadata": {},
     "output_type": "execute_result"
    }
   ],
   "source": [
    "sum_sumas(4)"
   ]
  },
  {
   "cell_type": "code",
   "execution_count": 26,
   "metadata": {},
   "outputs": [],
   "source": [
    "def proporcion(nsample,n):\n",
    "    pro = []\n",
    "    for _ in range(n):\n",
    "        p = np.sum([1 for x in sum_sumas(nsample) if x >= 21.6])/len(sum_sumas(nsample))\n",
    "        pro.append(p)\n",
    "    \n",
    "    return pro\n",
    "\n",
    "        \n",
    "    \n",
    "    "
   ]
  },
  {
   "cell_type": "code",
   "execution_count": 28,
   "metadata": {},
   "outputs": [
    {
     "name": "stdout",
     "output_type": "stream",
     "text": [
      "tetha ~ 0.1698\n"
     ]
    }
   ],
   "source": [
    "probabilidad = np.mean(proporcion(100,100))\n",
    "print('tetha ~ {}'.format(probabilidad))"
   ]
  },
  {
   "cell_type": "code",
   "execution_count": null,
   "metadata": {},
   "outputs": [],
   "source": []
  },
  {
   "cell_type": "code",
   "execution_count": null,
   "metadata": {},
   "outputs": [],
   "source": []
  }
 ],
 "metadata": {
  "kernelspec": {
   "display_name": "Python 3",
   "language": "python",
   "name": "python3"
  },
  "language_info": {
   "codemirror_mode": {
    "name": "ipython",
    "version": 3
   },
   "file_extension": ".py",
   "mimetype": "text/x-python",
   "name": "python",
   "nbconvert_exporter": "python",
   "pygments_lexer": "ipython3",
   "version": "3.8.3"
  }
 },
 "nbformat": 4,
 "nbformat_minor": 4
}
